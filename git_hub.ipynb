{
 "cells": [
  {
   "cell_type": "markdown",
   "metadata": {},
   "source": [
    "# Git commands\n",
    "\n",
    "## 1. Creating a personal access token\n",
    "https://docs.github.com/en/authentication/keeping-your-account-and-data-secure/creating-a-personal-access-token\n",
    "\n",
    "## 2. To check user name and user email\n",
    "git config --global user.name <br>\n",
    "git config --global user.email\n",
    "\n",
    "## 3. To clone git repository to local computer\n",
    "git clone https://github.com/gbsdk/maths.git\n",
    "\n",
    "## 4. To add a file and push to git/cloud\n",
    "git add linear_algebra.ipynb <br>\n",
    "git status <br>\n",
    "git commit -m \"Add initial linear algebra python codes\" <br>\n",
    "git push\n",
    "\n",
    "## 5. To delete a file\n",
    "git remove linear_algebra.ipynb <br>\n",
    "git commit -m \"Deleted linear_algebra.ipynb\" <br>\n",
    "git push"
   ]
  },
  {
   "cell_type": "code",
   "execution_count": null,
   "metadata": {},
   "outputs": [],
   "source": []
  }
 ],
 "metadata": {
  "kernelspec": {
   "display_name": "Python 3",
   "language": "python",
   "name": "python3"
  },
  "language_info": {
   "codemirror_mode": {
    "name": "ipython",
    "version": 3
   },
   "file_extension": ".py",
   "mimetype": "text/x-python",
   "name": "python",
   "nbconvert_exporter": "python",
   "pygments_lexer": "ipython3",
   "version": "3.8.3"
  },
  "varInspector": {
   "cols": {
    "lenName": 16,
    "lenType": 16,
    "lenVar": 40
   },
   "kernels_config": {
    "python": {
     "delete_cmd_postfix": "",
     "delete_cmd_prefix": "del ",
     "library": "var_list.py",
     "varRefreshCmd": "print(var_dic_list())"
    },
    "r": {
     "delete_cmd_postfix": ") ",
     "delete_cmd_prefix": "rm(",
     "library": "var_list.r",
     "varRefreshCmd": "cat(var_dic_list()) "
    }
   },
   "types_to_exclude": [
    "module",
    "function",
    "builtin_function_or_method",
    "instance",
    "_Feature"
   ],
   "window_display": false
  }
 },
 "nbformat": 4,
 "nbformat_minor": 4
}
