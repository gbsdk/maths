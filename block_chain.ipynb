{
 "cells": [
  {
   "cell_type": "markdown",
   "id": "dfc0d347",
   "metadata": {},
   "source": [
    "# Block Chain"
   ]
  },
  {
   "cell_type": "markdown",
   "id": "a7a7055d",
   "metadata": {},
   "source": [
    "https://hackr.io/blog/blockchain-programming-beginners-guide\n",
    "\n",
    "A **block** is stored as a **tuple of (parent_hash, transactions, hash_itself)**\n",
    "\n",
    "**Digital Signature** is a hash() function that takes a string as input and  returns a fixed-size alphanumeric string. The output string is known as the Digital Signature or the Hash of the input message. \n",
    "\n",
    "The important point to note here is that the function via which we obtain the Digital Signature is **“irreversible”** in that given an input string, it can compute the Hash. However, given the Hash, it is virtually impossible to compute the input string."
   ]
  },
  {
   "cell_type": "markdown",
   "id": "f400aff4",
   "metadata": {},
   "source": [
    "## 1. Creating a block"
   ]
  },
  {
   "cell_type": "code",
   "execution_count": 20,
   "id": "f4529c9a",
   "metadata": {},
   "outputs": [],
   "source": [
    "# create a block\n",
    "\n",
    "def create_block(transactions, parent_hash):\n",
    "    \n",
    "    # Hashing functions designed by cryptographers after years of research.\n",
    "    # hash() takes exactly one argument, (()), the inner bracket is a tuple/one argument\n",
    "    \n",
    "    current_hash = hash((transactions, parent_hash))\n",
    "    return (parent_hash, transactions, current_hash)"
   ]
  },
  {
   "cell_type": "markdown",
   "id": "959bc25c",
   "metadata": {},
   "source": [
    "## 2. Getter functions used for accessing elements of a tuple/block."
   ]
  },
  {
   "cell_type": "code",
   "execution_count": 8,
   "id": "03071259",
   "metadata": {},
   "outputs": [],
   "source": [
    "def get_parent_hash(block):\n",
    "    return block[0]\n",
    "\n",
    "def get_transactions(block):\n",
    "    return block[1]\n",
    "\n",
    "def get_current_hash(block):\n",
    "    return block[2]"
   ]
  },
  {
   "cell_type": "markdown",
   "id": "98f7545a",
   "metadata": {},
   "source": [
    "## 3. Genesis block"
   ]
  },
  {
   "cell_type": "code",
   "execution_count": 19,
   "id": "e4f73c94",
   "metadata": {},
   "outputs": [
    {
     "name": "stdout",
     "output_type": "stream",
     "text": [
      "genesis_block_hash: 8934037574644490572\n"
     ]
    }
   ],
   "source": [
    "# genesis block is block 0 on the block chain.\n",
    "\n",
    "def create_genesis_block(transactions):\n",
    "    # parent hash is 0.\n",
    "    return create_block(transactions, 0)\n",
    "\n",
    "# genesis transaction is \"X paid $100 to Y\".\n",
    "genesis_block = create_genesis_block(\"X paid $100 to Y\")\n",
    "\n",
    "# print the hash of the genesis_block\n",
    "genesis_block_hash = get_current_hash(genesis_block)\n",
    "print (\"genesis_block_hash:\", genesis_block_hash)"
   ]
  },
  {
   "cell_type": "markdown",
   "id": "48d45925",
   "metadata": {},
   "source": [
    "## 4. Block 1"
   ]
  },
  {
   "cell_type": "code",
   "execution_count": 12,
   "id": "cc80fb1c",
   "metadata": {},
   "outputs": [
    {
     "name": "stdout",
     "output_type": "stream",
     "text": [
      "block1_hash: 579501960270173692\n"
     ]
    }
   ],
   "source": [
    "# create another block\n",
    "block1 = create_block(\"Y paid $20 to Z, X paid $10 to P\", genesis_block_hash)\n",
    "\n",
    "# print the hash of block1\n",
    "block1_hash = get_current_hash(block1)\n",
    "print (\"block1_hash:\", block1_hash)"
   ]
  },
  {
   "cell_type": "code",
   "execution_count": 28,
   "id": "4b5d7e67",
   "metadata": {},
   "outputs": [
    {
     "name": "stdout",
     "output_type": "stream",
     "text": [
      "The genesis block is: (0, 'X paid $100 to Y', 8934037574644490572)\n",
      "Block1 is: (8934037574644490572, 'Y paid $20 to Z, X paid $10 to P', 579501960270173692)\n"
     ]
    }
   ],
   "source": [
    "print (\"The genesis block is:\", genesis_block)\n",
    "print (\"Block1 is:\", block1)"
   ]
  },
  {
   "cell_type": "code",
   "execution_count": null,
   "id": "beecb7de",
   "metadata": {},
   "outputs": [],
   "source": []
  }
 ],
 "metadata": {
  "kernelspec": {
   "display_name": "Python 3",
   "language": "python",
   "name": "python3"
  },
  "language_info": {
   "codemirror_mode": {
    "name": "ipython",
    "version": 3
   },
   "file_extension": ".py",
   "mimetype": "text/x-python",
   "name": "python",
   "nbconvert_exporter": "python",
   "pygments_lexer": "ipython3",
   "version": "3.8.8"
  }
 },
 "nbformat": 4,
 "nbformat_minor": 5
}
