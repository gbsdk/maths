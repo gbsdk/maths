{
 "cells": [
  {
   "cell_type": "markdown",
   "id": "bf872675",
   "metadata": {},
   "source": [
    "https://www.w3schools.com/python/python_classes.asp\n",
    "\n",
    "Class:<br>\n",
    "an object constructor.<br>\n",
    "a blueprint/plan for creating objects. <br>\n",
    "\n",
    "\n",
    "Object: Almost everything in Python is an object, with its properties and methods.<br>\n",
    "Method: function inside class.<br>\n",
    "Property:"
   ]
  },
  {
   "cell_type": "markdown",
   "id": "21dbc870",
   "metadata": {},
   "source": [
    "# Create a Class"
   ]
  },
  {
   "cell_type": "code",
   "execution_count": 1,
   "id": "06e53234",
   "metadata": {},
   "outputs": [],
   "source": [
    "# create a class named MyClass, with a property named x.\n",
    "class MyClass:\n",
    "    x = 5"
   ]
  },
  {
   "cell_type": "markdown",
   "id": "c260c1a0",
   "metadata": {},
   "source": [
    "# Create an Object"
   ]
  },
  {
   "cell_type": "code",
   "execution_count": 2,
   "id": "c08399e4",
   "metadata": {},
   "outputs": [
    {
     "name": "stdout",
     "output_type": "stream",
     "text": [
      "5\n"
     ]
    }
   ],
   "source": [
    "# create an object named p1\n",
    "p1 = MyClass()\n",
    "print(p1.x)"
   ]
  },
  {
   "cell_type": "markdown",
   "id": "16fd954e",
   "metadata": {},
   "source": [
    "# The \\__init__\\() Function"
   ]
  },
  {
   "cell_type": "markdown",
   "id": "599af43b",
   "metadata": {},
   "source": [
    "All classes have a function called \\__init\\__(), which is **always executed when the class is being initiated**.\n",
    "\n",
    "Use the \\__init\\__() function to assign values to object properties, or other operations that are necessary to do when the object is being created:\n",
    "\n",
    "<font color='red'> Note: <font color='black'> The \\__init\\__() function is called automatically every time the class is being used to create a new object."
   ]
  },
  {
   "cell_type": "markdown",
   "id": "80ffcef3",
   "metadata": {},
   "source": [
    "# The self Parameter\n",
    "\n",
    "The self parameter is a reference to the current instance of the class, and is **used to access variables that belongs to the class**.\n",
    "\n",
    "It does not have to be named self , you can call it whatever you like, but it **has to be the first parameter of any function in the class**:"
   ]
  },
  {
   "cell_type": "code",
   "execution_count": 19,
   "id": "7901def5",
   "metadata": {},
   "outputs": [],
   "source": [
    "# class is like a function\n",
    "class Person:\n",
    "    def __init__(self1, name, age):\n",
    "        self1.n = name\n",
    "        self1.a = age\n",
    "    \n",
    "    # Objects can also contain methods. Methods in objects are functions that belong to the object.\n",
    "    def myfunc(self2):\n",
    "        print (\"Hello my name is \" + self2.n)"
   ]
  },
  {
   "cell_type": "code",
   "execution_count": 20,
   "id": "208ae91f",
   "metadata": {},
   "outputs": [],
   "source": [
    "# object is like a output of function\n",
    "p1 = Person (\"John\", 36)"
   ]
  },
  {
   "cell_type": "code",
   "execution_count": 21,
   "id": "25006c91",
   "metadata": {},
   "outputs": [
    {
     "name": "stdout",
     "output_type": "stream",
     "text": [
      "John\n",
      "36\n",
      "Hello my name is John\n"
     ]
    }
   ],
   "source": [
    "print (p1.n)\n",
    "print (p1.a)\n",
    "p1.myfunc()"
   ]
  },
  {
   "cell_type": "code",
   "execution_count": null,
   "id": "bac14be7",
   "metadata": {},
   "outputs": [],
   "source": []
  }
 ],
 "metadata": {
  "kernelspec": {
   "display_name": "Python 3",
   "language": "python",
   "name": "python3"
  },
  "language_info": {
   "codemirror_mode": {
    "name": "ipython",
    "version": 3
   },
   "file_extension": ".py",
   "mimetype": "text/x-python",
   "name": "python",
   "nbconvert_exporter": "python",
   "pygments_lexer": "ipython3",
   "version": "3.8.8"
  }
 },
 "nbformat": 4,
 "nbformat_minor": 5
}
